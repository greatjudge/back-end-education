{
 "cells": [
  {
   "cell_type": "markdown",
   "id": "b461b42e",
   "metadata": {},
   "source": [
    "# Метаклассы"
   ]
  },
  {
   "cell_type": "markdown",
   "id": "1f76af79",
   "metadata": {},
   "source": [
    "Это классы, экземпляры которых являются классами"
   ]
  },
  {
   "cell_type": "markdown",
   "id": "fb39d12c",
   "metadata": {},
   "source": [
    "* type - Стандратный метакласс в Python\n",
    "* Классы в Python - это объекты типа type"
   ]
  },
  {
   "cell_type": "code",
   "execution_count": 7,
   "id": "1b1136fc",
   "metadata": {},
   "outputs": [
    {
     "name": "stdout",
     "output_type": "stream",
     "text": [
      "<class '__main__.MyClass'>\n",
      "<class 'type'>\n",
      "<__main__.MyClass object at 0x7ff86786e940>\n"
     ]
    }
   ],
   "source": [
    "MyClass = type('MyClass', (object,), {})\n",
    "print(MyClass)\n",
    "print(type(MyClass))\n",
    "obj = MyClass()\n",
    "print(obj)"
   ]
  },
  {
   "cell_type": "code",
   "execution_count": 8,
   "id": "c30266d2",
   "metadata": {},
   "outputs": [
    {
     "name": "stdout",
     "output_type": "stream",
     "text": [
      "<__main__.MyClass object at 0x7ff8676c0fa0>\n",
      "Hello\n"
     ]
    }
   ],
   "source": [
    "def my_class_init(instance, attr):\n",
    "    instance.attr = attr\n",
    "\n",
    "MyClass = type('MyClass', (object,), {'__init__': my_class_init})\n",
    "obj = MyClass('Hello')\n",
    "print(obj)\n",
    "print(obj.attr)"
   ]
  },
  {
   "cell_type": "markdown",
   "id": "6dde3afe",
   "metadata": {},
   "source": [
    "* Можно создавать свои метаклассы. \n",
    "* Сгодится любой callable объект, принимающий 3 аргумента (имя, bases, аттрибуты) и возвращающий объект класса.\n",
    "* Метакласс можно указать при объявлении класса\n",
    "* Метаклассы запускаются перед созданием класса"
   ]
  },
  {
   "cell_type": "code",
   "execution_count": 14,
   "id": "dd767920",
   "metadata": {},
   "outputs": [
    {
     "name": "stdout",
     "output_type": "stream",
     "text": [
      "() {'__module__': '__main__', '__qualname__': 'C', 'attr': 1, '__init__': <function C.__init__ at 0x7ff866b4d820>}\n"
     ]
    }
   ],
   "source": [
    "def my_metaclass(name, parents, attributes):\n",
    "    print(parents, attributes)\n",
    "    return 'Hello'\n",
    "\n",
    "class C(metaclass=my_metaclass):\n",
    "    attr = 1\n",
    "    \n",
    "    def __init__(self):\n",
    "        pass"
   ]
  },
  {
   "cell_type": "markdown",
   "id": "87f7b5a1",
   "metadata": {},
   "source": [
    "Оборачивает каждый метод класса декоратором logged (Логирование)"
   ]
  },
  {
   "cell_type": "code",
   "execution_count": 24,
   "id": "c9cf8321",
   "metadata": {},
   "outputs": [
    {
     "name": "stdout",
     "output_type": "stream",
     "text": [
      "Creating class C\n",
      "Starting object creation\n",
      "- Running 'C.__init__' on Oct 22 2021 - 23:13:31 \n",
      "- Finished 'C.__init__', execution time = 0.000s \n",
      "- Running 'C.print_x' on Oct 22 2021 - 23:13:31 \n",
      "Test\n",
      "- Finished 'C.print_x', execution time = 0.000s \n"
     ]
    }
   ],
   "source": [
    "from functools import wraps\n",
    "import time\n",
    "\n",
    "def logged(time_format, name_prefix=\"\"):\n",
    "    def decorator(func):\n",
    "        if hasattr(func, '_logged_decorator') and func._logged_decorator:\n",
    "            return func\n",
    "\n",
    "        @wraps(func)\n",
    "        def decorated_func(*args, **kwargs):\n",
    "            start_time = time.time()\n",
    "            print(\"- Running '{}' on {} \".format(\n",
    "                name_prefix + func.__name__,\n",
    "                time.strftime(time_format)\n",
    "            ))\n",
    "            result = func(*args, **kwargs)\n",
    "            end_time = time.time()\n",
    "            print(\"- Finished '{}', execution time = {:0.3f}s \".format(\n",
    "                name_prefix + func.__name__,\n",
    "                end_time - start_time\n",
    "            ))\n",
    "            return result\n",
    "        decorated_func._logged_decorator = True\n",
    "        return decorated_func\n",
    "    return decorator\n",
    "# ....................................................................\n",
    "\n",
    "def log_everything_metaclass(class_name, parents, attributes):\n",
    "    print('Creating class', class_name)\n",
    "    class_attributes = {}\n",
    "    for attr_name, attr in attributes.items():\n",
    "        class_attributes[attr_name] = attr\n",
    "        if hasattr(attr, '__call__'):\n",
    "            class_attributes[attr_name] = logged(\"%b %d %Y - %H:%M:%S\",\n",
    "                                            class_name + '.')(attr)\n",
    "    return type(class_name, parents, class_attributes)\n",
    "\n",
    "\n",
    "class C(metaclass=log_everything_metaclass):\n",
    "    def __init__(self, x):\n",
    "        self.x = x\n",
    "\n",
    "    def print_x(self):\n",
    "        print(self.x)\n",
    "        \n",
    "\n",
    "# Usage:\n",
    "print('Starting object creation')\n",
    "c = C('Test')\n",
    "c.print_x()"
   ]
  },
  {
   "cell_type": "markdown",
   "id": "2c562eef",
   "metadata": {},
   "source": [
    "###### С помощью метаклассов можно реализовать паттерн \"Фабрика классов\""
   ]
  },
  {
   "cell_type": "code",
   "execution_count": 25,
   "id": "f14eff30",
   "metadata": {},
   "outputs": [
    {
     "name": "stdout",
     "output_type": "stream",
     "text": [
      "<class '__main__.ID3v2TitleFrame'>\n",
      "<class '__main__.ID3v2CommentFrame'>\n"
     ]
    }
   ],
   "source": [
    "frametype_class_dict = {}\n",
    "\n",
    "class ID3v2FrameClassFactory(type):\n",
    "    def __new__(cls, class_name, parents, attributes):\n",
    "        c = type(class_name, parents, attributes)\n",
    "        if attributes['frame_identifier']:\n",
    "            frametype_class_dict[attributes['frame_identifier']] = c\n",
    "        return c\n",
    "    \n",
    "    @staticmethod\n",
    "    def get_class_from_frame_identifier(frame_identifier):\n",
    "        return frametype_class_dict.get(frame_identifier)\n",
    "    \n",
    "\n",
    "class ID3v2Frame(metaclass=ID3v2FrameClassFactory):\n",
    "    frame_identifier = None\n",
    "\n",
    "\n",
    "class ID3v2TitleFrame(ID3v2Frame, metaclass=ID3v2FrameClassFactory):\n",
    "    frame_identifier = 'TIT2'\n",
    "\n",
    "\n",
    "class ID3v2CommentFrame(ID3v2Frame, metaclass=ID3v2FrameClassFactory):\n",
    "    frame_identifier = 'COMM'\n",
    "\n",
    "\n",
    "title_class = ID3v2FrameClassFactory.get_class_from_frame_identifier('TIT2')\n",
    "comment_class = ID3v2FrameClassFactory.get_class_from_frame_identifier('COMM')\n",
    "print(title_class)\n",
    "print(comment_class)"
   ]
  },
  {
   "cell_type": "markdown",
   "id": "15fc43df",
   "metadata": {},
   "source": [
    "При вызове класса для создания нового объекта вызывается его функция \\__call__. Она вызывает type.\\__call__ для создания объекта."
   ]
  },
  {
   "cell_type": "code",
   "execution_count": 86,
   "id": "86665cdb",
   "metadata": {},
   "outputs": [
    {
     "name": "stdout",
     "output_type": "stream",
     "text": [
      "- my_metaclass.__new__ - Creating class instance of type <class '__main__.my_metaclass'>\n",
      "- my_metaclass.__init__ - Initializing the class instance <class '__main__.C'>\n",
      "- my_metaclass.__call__ - Creating object of type  <class '__main__.C'>\n",
      "- C.__new__ - Creating object.\n",
      "- C.__init__ - Initializing object.\n",
      "Object c = <__main__.C object at 0x7ff88ea5ff70>\n"
     ]
    }
   ],
   "source": [
    "class my_metaclass(type):\n",
    "    def __new__(cls, class_name, parents, attributes):\n",
    "        print('- my_metaclass.__new__ - Creating class instance of type', cls)\n",
    "        return super().__new__(cls, class_name, parents, attributes)\n",
    "\n",
    "    def __init__(self, class_name, parents, attributes):\n",
    "        print('- my_metaclass.__init__ - Initializing the class instance', self)\n",
    "        super().__init__(class_name, parents, attributes)\n",
    "\n",
    "    def __call__(self, *args, **kwargs):\n",
    "        print('- my_metaclass.__call__ - Creating object of type ', self)\n",
    "        return super().__call__(*args, **kwargs)\n",
    "\n",
    "\n",
    "def my_class_decorator(cls):\n",
    "    print('- my_class_decorator - Chance to modify the class', cls)\n",
    "    return cls\n",
    "\n",
    "\n",
    "# @my_class_decorator\n",
    "class C(metaclass=my_metaclass):\n",
    "\n",
    "    def __new__(cls, *args, **kwargs):\n",
    "        print('- C.__new__ - Creating object.')\n",
    "        return super(C, cls).__new__(cls)\n",
    "\n",
    "    def __init__(self, x=100):\n",
    "        self.x = x\n",
    "        print('- C.__init__ - Initializing object.')\n",
    "\n",
    "c = C()\n",
    "print('Object c =', c)"
   ]
  },
  {
   "cell_type": "markdown",
   "id": "4527b8e4",
   "metadata": {},
   "source": [
    "* Python читает определение класса и готовится передать три параметра в метакласс. Вот параметры: class_name, parents и attributes.\n",
    "* В нашем случае метакласс представляет собой класс, поэтому его вызов похож на создание нового класса. Это значит, что первый my_metaclass.__new__ вызывается с четырьмя параметрами. Так создаётся объект, который и станет классом с именем C. У объекта вызывается __init__, а затем в переменную C записывается ссылка на объект.\n",
    "* Затем Python смотрит на декораторы, которые можно применить к классу. В нашем случае есть только один декоратор. Python вызывает его, передаёт возвращённый из метакласса класс в качестве параметра. Класс заменяется объектом, который возвращается из декоратора.\n",
    "* Тип класса будет таким же, как определено в метаклассе.\n",
    "* Когда класс вызывается для создания нового объекта, Python ищет __call__ в метаклассе, так как тип класса — метакласс. В нашем случае my.metaclass.__call__ просто вызывает type.__call__, который создаёт объект из переданного класса.\n",
    "* Затем type.__call__ создаёт объект. Для этого он ищет C.__new__ и запускает его.\n",
    "* Возвращённый объект готов к использованию.\n"
   ]
  }
 ],
 "metadata": {
  "kernelspec": {
   "display_name": "Python 3 (ipykernel)",
   "language": "python",
   "name": "python3"
  },
  "language_info": {
   "codemirror_mode": {
    "name": "ipython",
    "version": 3
   },
   "file_extension": ".py",
   "mimetype": "text/x-python",
   "name": "python",
   "nbconvert_exporter": "python",
   "pygments_lexer": "ipython3",
   "version": "3.9.5"
  }
 },
 "nbformat": 4,
 "nbformat_minor": 5
}
