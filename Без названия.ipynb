{
 "cells": [
  {
   "cell_type": "code",
   "execution_count": 1,
   "id": "01dbe731",
   "metadata": {},
   "outputs": [
    {
     "name": "stdout",
     "output_type": "stream",
     "text": [
      "skynet 999 12 (54,) {'aim': 'terminate'}\n"
     ]
    }
   ],
   "source": [
    "def make_function(name, *args, kw=12, **kwargs):\n",
    "    def inner(age=999):\n",
    "        print(name, age, kw, args, kwargs)\n",
    "    return inner\n",
    "\n",
    "fn = make_function('skynet', 54, aim='terminate')\n",
    "fn()"
   ]
  },
  {
   "cell_type": "code",
   "execution_count": 5,
   "id": "140d7525",
   "metadata": {},
   "outputs": [
    {
     "name": "stdout",
     "output_type": "stream",
     "text": [
      "(54,)\n",
      "12\n",
      "{'aim': 'terminate'}\n",
      "skynet\n"
     ]
    }
   ],
   "source": [
    "for obj in fn.__closure__:\n",
    "    print(obj.cell_contents)`"
   ]
  },
  {
   "cell_type": "code",
   "execution_count": null,
   "id": "c0499cf0",
   "metadata": {},
   "outputs": [],
   "source": []
  }
 ],
 "metadata": {
  "kernelspec": {
   "display_name": "Python 3 (ipykernel)",
   "language": "python",
   "name": "python3"
  },
  "language_info": {
   "codemirror_mode": {
    "name": "ipython",
    "version": 3
   },
   "file_extension": ".py",
   "mimetype": "text/x-python",
   "name": "python",
   "nbconvert_exporter": "python",
   "pygments_lexer": "ipython3",
   "version": "3.9.5"
  }
 },
 "nbformat": 4,
 "nbformat_minor": 5
}
